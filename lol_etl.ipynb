{
 "cells": [
  {
   "cell_type": "markdown",
   "metadata": {},
   "source": [
    "Sacar mi historial de partidas SUMMONER-V4, MATCH-V5\n",
    "o \n",
    "info de los jugadores de una división concreta LEAGUE-V4 division"
   ]
  },
  {
   "cell_type": "code",
   "execution_count": 1,
   "metadata": {},
   "outputs": [],
   "source": [
    "import requests\n",
    "import pandas as pd\n",
    "from creds import api_key"
   ]
  },
  {
   "cell_type": "code",
   "execution_count": 2,
   "metadata": {},
   "outputs": [],
   "source": [
    "url_summoner = 'https://euw1.api.riotgames.com/lol/summoner/v4/summoners/by-name/Masgt7'"
   ]
  },
  {
   "cell_type": "markdown",
   "metadata": {},
   "source": [
    "Nos centramos en SUMMONER-V4que tiene que ver con cualquier cosa que haga una cuenta en concreto"
   ]
  },
  {
   "cell_type": "code",
   "execution_count": 3,
   "metadata": {},
   "outputs": [],
   "source": [
    "url_summoner = url_summoner + '?api_key=' + api_key"
   ]
  },
  {
   "cell_type": "code",
   "execution_count": 4,
   "metadata": {},
   "outputs": [
    {
     "data": {
      "text/plain": [
       "200"
      ]
     },
     "execution_count": 4,
     "metadata": {},
     "output_type": "execute_result"
    }
   ],
   "source": [
    "r = requests.get (url_summoner)\n",
    "r.status_code"
   ]
  },
  {
   "cell_type": "code",
   "execution_count": 5,
   "metadata": {},
   "outputs": [
    {
     "name": "stdout",
     "output_type": "stream",
     "text": [
      "{'id': '7xKp5xDyqk1u0_RKrh8SdaSHYhjpThiq7XXJscT2DQx273I', 'accountId': 'NcGfPSobpg1gNOsZBjrQNCVyeIg7MyijVoglw0WBQioOST0', 'puuid': 'uFIekhnHnZjaIXG_IG5y2Kb_UbBsEv57LksBUe6qMh0h0MPBKg8xoWtsbQkvXcPhlHLNGn8xZwqzGQ', 'name': 'Masgt7', 'profileIconId': 940, 'revisionDate': 1700658317030, 'summonerLevel': 74}\n"
     ]
    }
   ],
   "source": [
    "player_info = r.json()\n",
    "print (player_info)"
   ]
  },
  {
   "cell_type": "markdown",
   "metadata": {},
   "source": [
    "Obtenida la info de mi cuenta, ahora hacemos otra request para obtener identificadores de mis últimas partidas a partir del 'puuid'"
   ]
  },
  {
   "cell_type": "code",
   "execution_count": 6,
   "metadata": {},
   "outputs": [],
   "source": [
    "puuid = player_info['puuid']"
   ]
  },
  {
   "cell_type": "code",
   "execution_count": 7,
   "metadata": {},
   "outputs": [],
   "source": [
    "url_match_history = 'https://europe.api.riotgames.com/lol/match/v5/matches/by-puuid/' + puuid + '/ids?type=normal&start=0&count=20&api_key=' + api_key #Limitamos la lista de partidas a 20\n",
    "r = requests.get(url_match_history)"
   ]
  },
  {
   "cell_type": "code",
   "execution_count": 8,
   "metadata": {},
   "outputs": [
    {
     "name": "stdout",
     "output_type": "stream",
     "text": [
      "['EUW1_6686773929', 'EUW1_6686744190', 'EUW1_6684157765', 'EUW1_6684133215', 'EUW1_6682813114', 'EUW1_6682767095', 'EUW1_6682519608', 'EUW1_6678781224', 'EUW1_6678748896', 'EUW1_6678696426', 'EUW1_6678677984', 'EUW1_6678647009', 'EUW1_6677476957', 'EUW1_6677447766', 'EUW1_6673723132', 'EUW1_6673680411', 'EUW1_6673646176', 'EUW1_6673557905', 'EUW1_6673484178', 'EUW1_6673427621']\n"
     ]
    }
   ],
   "source": [
    "if r.status_code == 200:\n",
    "    game_id = r.json()\n",
    "    print (game_id)\n",
    "else:\n",
    "    print ('Error', r.status_code, ':',)  "
   ]
  },
  {
   "cell_type": "markdown",
   "metadata": {},
   "source": [
    "Vamos a sacar ahora información de cada partida y almacenarla en ficheros .csv por separado"
   ]
  },
  {
   "cell_type": "code",
   "execution_count": 9,
   "metadata": {},
   "outputs": [],
   "source": [
    "counter = 1\n",
    "for i in game_id:\n",
    "    url_game_info = 'https://europe.api.riotgames.com/lol/match/v5/matches/' + i + '?api_key=' + api_key\n",
    "    game_info = requests.get(url_game_info)\n",
    "    index_player = game_info.json()['metadata']['participants'].index(puuid)\n",
    "    game_data = game_info.json()['info']['participants'][index_player]\n",
    "    game_df = pd.json_normalize(game_data)\n",
    "    game_df.to_csv ('games\\\\game' + str(counter) + '.csv', sep = ',', mode = 'x')\n",
    "    counter += 1"
   ]
  },
  {
   "cell_type": "markdown",
   "metadata": {},
   "source": [
    "Cargamos una lista con DF a partir de los CSV"
   ]
  },
  {
   "cell_type": "code",
   "execution_count": 10,
   "metadata": {},
   "outputs": [],
   "source": [
    "list_df = []\n",
    "\n",
    "for i in range(len(game_id)):\n",
    "    list_df.append((pd.read_csv('games\\\\game' + str (i+1) + '.csv')))"
   ]
  },
  {
   "cell_type": "code",
   "execution_count": 11,
   "metadata": {},
   "outputs": [
    {
     "name": "stdout",
     "output_type": "stream",
     "text": [
      "(1, 264)\n",
      "(1, 263)\n",
      "(1, 268)\n",
      "(1, 269)\n",
      "(1, 268)\n",
      "(1, 269)\n",
      "(1, 269)\n",
      "(1, 268)\n",
      "(1, 268)\n",
      "(1, 267)\n",
      "(1, 267)\n",
      "(1, 267)\n",
      "(1, 267)\n",
      "(1, 266)\n",
      "(1, 268)\n",
      "(1, 268)\n",
      "(1, 267)\n",
      "(1, 269)\n",
      "(1, 270)\n",
      "(1, 269)\n"
     ]
    }
   ],
   "source": [
    "for i in range (len(list_df)):\n",
    "    print (list_df[i].shape)"
   ]
  },
  {
   "cell_type": "markdown",
   "metadata": {},
   "source": [
    "No tienen las mismas columnas, de modo que vamos a quedarnos únicamente con las que tengan en común"
   ]
  },
  {
   "cell_type": "code",
   "execution_count": 12,
   "metadata": {},
   "outputs": [],
   "source": [
    "common_rows = set.intersection(*(set(df.columns) for df in list_df))"
   ]
  }
 ],
 "metadata": {
  "kernelspec": {
   "display_name": "Python 3",
   "language": "python",
   "name": "python3"
  },
  "language_info": {
   "codemirror_mode": {
    "name": "ipython",
    "version": 3
   },
   "file_extension": ".py",
   "mimetype": "text/x-python",
   "name": "python",
   "nbconvert_exporter": "python",
   "pygments_lexer": "ipython3",
   "version": "3.10.10"
  }
 },
 "nbformat": 4,
 "nbformat_minor": 2
}
